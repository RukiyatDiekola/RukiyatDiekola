{
  "nbformat": 4,
  "nbformat_minor": 0,
  "metadata": {
    "colab": {
      "provenance": [],
      "collapsed_sections": [],
      "authorship_tag": "ABX9TyNtfjnTv2vS66FqFWxD2Xco",
      "include_colab_link": true
    },
    "kernelspec": {
      "name": "python3",
      "display_name": "Python 3"
    },
    "language_info": {
      "name": "python"
    }
  },
  "cells": [
    {
      "cell_type": "markdown",
      "metadata": {
        "id": "view-in-github",
        "colab_type": "text"
      },
      "source": [
        "<a href=\"https://colab.research.google.com/github/RukiyatDiekola/RukiyatDiekola/blob/main/Training2.ipynb\" target=\"_parent\"><img src=\"https://colab.research.google.com/assets/colab-badge.svg\" alt=\"Open In Colab\"/></a>"
      ]
    },
    {
      "cell_type": "code",
      "execution_count": 6,
      "metadata": {
        "colab": {
          "base_uri": "https://localhost:8080/"
        },
        "id": "wlJBHSdeDBU8",
        "outputId": "fcaa195d-5f73-4b62-ffb1-a2e78bc37fc4"
      },
      "outputs": [
        {
          "output_type": "stream",
          "name": "stdout",
          "text": [
            "The number is equal to zero\n"
          ]
        }
      ],
      "source": [
        "a=0\n",
        "if a>0:\n",
        "  print(\"The number is positive\")\n",
        "elif a<0:\n",
        "  print(\"The number is negative\")\n",
        "else:\n",
        "    print(\"The number is equal to zero\")"
      ]
    },
    {
      "cell_type": "code",
      "source": [
        "i=10\n",
        "\n",
        "for i in range(0,20):\n",
        "  print(\"The iteration is {}\".format(i))\n",
        "print(\"The end\")\n"
      ],
      "metadata": {
        "colab": {
          "base_uri": "https://localhost:8080/"
        },
        "id": "DKO2Dx4VGEFK",
        "outputId": "7b456ee6-b69a-46cb-a49b-46c04a918124"
      },
      "execution_count": 7,
      "outputs": [
        {
          "output_type": "stream",
          "name": "stdout",
          "text": [
            "The iteration is 0\n",
            "The iteration is 1\n",
            "The iteration is 2\n",
            "The iteration is 3\n",
            "The iteration is 4\n",
            "The iteration is 5\n",
            "The iteration is 6\n",
            "The iteration is 7\n",
            "The iteration is 8\n",
            "The iteration is 9\n",
            "The iteration is 10\n",
            "The iteration is 11\n",
            "The iteration is 12\n",
            "The iteration is 13\n",
            "The iteration is 14\n",
            "The iteration is 15\n",
            "The iteration is 16\n",
            "The iteration is 17\n",
            "The iteration is 18\n",
            "The iteration is 19\n",
            "The end\n"
          ]
        }
      ]
    },
    {
      "cell_type": "code",
      "source": [
        "a=1\n",
        "while a<6:\n",
        "  print(a)\n",
        "  a=1+a\n",
        "print(\"The end!\")"
      ],
      "metadata": {
        "colab": {
          "base_uri": "https://localhost:8080/"
        },
        "id": "CmLz9-kJGb1-",
        "outputId": "e79205d1-ae8e-4d42-95c3-58e04ea58b24"
      },
      "execution_count": 10,
      "outputs": [
        {
          "output_type": "stream",
          "name": "stdout",
          "text": [
            "1\n",
            "2\n",
            "3\n",
            "4\n",
            "5\n",
            "The end!\n"
          ]
        }
      ]
    },
    {
      "cell_type": "code",
      "source": [
        "                                    \n"
      ],
      "metadata": {
        "id": "CIYyReXFI3PI"
      },
      "execution_count": 18,
      "outputs": []
    },
    {
      "cell_type": "code",
      "source": [
        "targetv =5\n",
        "iterate =2\n",
        "while iterate <targetv:\n",
        "  print(\"The iteration no. is {}, which is less than the target value {}\".format(iterate, targetv))\n",
        "  iterate=iterate+1\n",
        "print(\"The end!\")\n"
      ],
      "metadata": {
        "colab": {
          "base_uri": "https://localhost:8080/"
        },
        "id": "226THj-WMJO9",
        "outputId": "2159fc70-e3ab-4704-fcc3-fd4c9111c274"
      },
      "execution_count": 18,
      "outputs": [
        {
          "output_type": "stream",
          "name": "stdout",
          "text": [
            "The iteration no. is 2, which is less than the target value 5\n",
            "The iteration no. is 3, which is less than the target value 5\n",
            "The iteration no. is 4, which is less than the target value 5\n",
            "The end!\n"
          ]
        }
      ]
    },
    {
      "cell_type": "code",
      "source": [
        "for i in range(1,6): #outer loop\n",
        "  for j in range(1,11):#inner loop\n",
        "    print(i*j)"
      ],
      "metadata": {
        "colab": {
          "base_uri": "https://localhost:8080/"
        },
        "id": "eydNgPitMZ9a",
        "outputId": "0568cdd2-1746-48a8-9c94-fd74a6b6576e"
      },
      "execution_count": 20,
      "outputs": [
        {
          "output_type": "stream",
          "name": "stdout",
          "text": [
            "1\n",
            "2\n",
            "3\n",
            "4\n",
            "5\n",
            "6\n",
            "7\n",
            "8\n",
            "9\n",
            "10\n",
            "2\n",
            "4\n",
            "6\n",
            "8\n",
            "10\n",
            "12\n",
            "14\n",
            "16\n",
            "18\n",
            "20\n",
            "3\n",
            "6\n",
            "9\n",
            "12\n",
            "15\n",
            "18\n",
            "21\n",
            "24\n",
            "27\n",
            "30\n",
            "4\n",
            "8\n",
            "12\n",
            "16\n",
            "20\n",
            "24\n",
            "28\n",
            "32\n",
            "36\n",
            "40\n",
            "5\n",
            "10\n",
            "15\n",
            "20\n",
            "25\n",
            "30\n",
            "35\n",
            "40\n",
            "45\n",
            "50\n"
          ]
        }
      ]
    },
    {
      "cell_type": "code",
      "source": [
        "colours = [\"blue\", \"red\", \"yellow\"]\n",
        "cars = [\"BMW\", \"Mercedes\", \"Range\"]\n",
        "for colour in colours:\n",
        "  for car in cars:\n",
        "    print(colour, car)"
      ],
      "metadata": {
        "colab": {
          "base_uri": "https://localhost:8080/"
        },
        "id": "FtdCgsRiNMm4",
        "outputId": "e1118be5-c507-40b3-fd12-37d803e334b7"
      },
      "execution_count": 21,
      "outputs": [
        {
          "output_type": "stream",
          "name": "stdout",
          "text": [
            "blue BMW\n",
            "blue Mercedes\n",
            "blue Range\n",
            "red BMW\n",
            "red Mercedes\n",
            "red Range\n",
            "yellow BMW\n",
            "yellow Mercedes\n",
            "yellow Range\n"
          ]
        }
      ]
    },
    {
      "cell_type": "code",
      "source": [
        "targetv=5\n",
        "iterate=0\n",
        "while iterate<targetv:\n",
        "  print(\"Iteration number is {}, which is less than the target value\".format(iterate,targetv))\n",
        "  if iterate==3:\n",
        "    print(\"condition met\")\n",
        "    break\n",
        "  iterate=iterate+1"
      ],
      "metadata": {
        "colab": {
          "base_uri": "https://localhost:8080/"
        },
        "id": "VDWlRYu1Poao",
        "outputId": "76933efa-c8d2-424a-9128-e4f4c3be6d07"
      },
      "execution_count": 23,
      "outputs": [
        {
          "output_type": "stream",
          "name": "stdout",
          "text": [
            "Iteration number is 0, which is less than the target value\n",
            "Iteration number is 1, which is less than the target value\n",
            "Iteration number is 2, which is less than the target value\n",
            "Iteration number is 3, which is less than the target value\n",
            "condition met\n"
          ]
        }
      ]
    },
    {
      "cell_type": "code",
      "source": [
        "targetv=5\n",
        "iterate=0\n",
        "while iterate<targetv:\n",
        "  iterate=iterate+1\n",
        "  if iterate==2:\n",
        "    continue\n",
        "  print(\"iteration no is {},which is less than the target value{}\".format(iterate,targetv))\n",
        "print(\"ITERATION NUMBER HAS BEEN SKIPPED!\")"
      ],
      "metadata": {
        "colab": {
          "base_uri": "https://localhost:8080/"
        },
        "id": "e1CPrxmMU9_H",
        "outputId": "716a9dde-3e29-4289-f840-90bf9ae45942"
      },
      "execution_count": 25,
      "outputs": [
        {
          "output_type": "stream",
          "name": "stdout",
          "text": [
            "iteration no is 1,which is less than the target value5\n",
            "iteration no is 3,which is less than the target value5\n",
            "iteration no is 4,which is less than the target value5\n",
            "iteration no is 5,which is less than the target value5\n",
            "ITERATION NUMBER HAS BEEN SKIPPED!\n"
          ]
        }
      ]
    },
    {
      "cell_type": "code",
      "source": [
        "names =[\"Mercy\", \"Anis\", \"Chris\", \"Isreal\"]\n",
        "for name in names:\n",
        "  if name ==\"Chris\":\n",
        "    continue\n",
        "  print(name)"
      ],
      "metadata": {
        "colab": {
          "base_uri": "https://localhost:8080/"
        },
        "id": "eRur5cKmWrkA",
        "outputId": "e1c0256a-c986-4f97-fe45-8a15994e0e2a"
      },
      "execution_count": 35,
      "outputs": [
        {
          "output_type": "stream",
          "name": "stdout",
          "text": [
            "Mercy\n",
            "Anis\n",
            "Isreal\n"
          ]
        }
      ]
    },
    {
      "cell_type": "code",
      "source": [
        "mylist =[\"Micheal\", \"Sean\", \"Adam\"]\n",
        "mylist[0]=\"John\"\n",
        "print(mylist)"
      ],
      "metadata": {
        "colab": {
          "base_uri": "https://localhost:8080/"
        },
        "id": "uFqS25MAXa1A",
        "outputId": "2fd4af8d-846d-4915-f201-9b94e8c1c4ff"
      },
      "execution_count": 36,
      "outputs": [
        {
          "output_type": "stream",
          "name": "stdout",
          "text": [
            "['John', 'Sean', 'Adam']\n"
          ]
        }
      ]
    },
    {
      "cell_type": "code",
      "source": [
        "print(type(mylist))"
      ],
      "metadata": {
        "colab": {
          "base_uri": "https://localhost:8080/"
        },
        "id": "so2-EIKyaW3A",
        "outputId": "1147e5a1-50a8-48a8-fff3-499f4d79d553"
      },
      "execution_count": 37,
      "outputs": [
        {
          "output_type": "stream",
          "name": "stdout",
          "text": [
            "<class 'list'>\n"
          ]
        }
      ]
    },
    {
      "cell_type": "code",
      "source": [
        "print(len(mylist))"
      ],
      "metadata": {
        "colab": {
          "base_uri": "https://localhost:8080/"
        },
        "id": "j0FF57Vqaddj",
        "outputId": "08fe7c35-e6ed-4735-b97a-a05afeff9b29"
      },
      "execution_count": 38,
      "outputs": [
        {
          "output_type": "stream",
          "name": "stdout",
          "text": [
            "3\n"
          ]
        }
      ]
    },
    {
      "cell_type": "code",
      "source": [
        "if \"Sean\" in mylist:\n",
        "  print(\"Yes the element is present\")"
      ],
      "metadata": {
        "colab": {
          "base_uri": "https://localhost:8080/"
        },
        "id": "7mKwWT8Wba6F",
        "outputId": "e58fc19e-ed1e-4e4d-c3a0-b5a1cb65972e"
      },
      "execution_count": 39,
      "outputs": [
        {
          "output_type": "stream",
          "name": "stdout",
          "text": [
            "Yes the element is present\n"
          ]
        }
      ]
    },
    {
      "cell_type": "code",
      "source": [
        "#to add at the front of a list\n",
        "mylist.insert(0,\"Mercy\")\n",
        "print(mylist)"
      ],
      "metadata": {
        "colab": {
          "base_uri": "https://localhost:8080/"
        },
        "id": "7pv0_IQNbtKd",
        "outputId": "9520633a-2484-41b4-8be6-5722df9d8544"
      },
      "execution_count": 40,
      "outputs": [
        {
          "output_type": "stream",
          "name": "stdout",
          "text": [
            "['Mercy', 'John', 'Sean', 'Adam']\n"
          ]
        }
      ]
    },
    {
      "cell_type": "code",
      "source": [
        "#to add the end of a list\n",
        "mylist.append(\"John\")\n",
        "print(mylist)"
      ],
      "metadata": {
        "colab": {
          "base_uri": "https://localhost:8080/"
        },
        "id": "o3tqXvDsb5gv",
        "outputId": "9d8875c6-0793-420c-a6f9-b0d4ec8a31b4"
      },
      "execution_count": 41,
      "outputs": [
        {
          "output_type": "stream",
          "name": "stdout",
          "text": [
            "['Mercy', 'John', 'Sean', 'Adam', 'John']\n"
          ]
        }
      ]
    },
    {
      "cell_type": "code",
      "source": [],
      "metadata": {
        "id": "ZETX3-ZOcihR"
      },
      "execution_count": 43,
      "outputs": []
    }
  ]
}