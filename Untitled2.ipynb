{
  "nbformat": 4,
  "nbformat_minor": 0,
  "metadata": {
    "colab": {
      "provenance": [],
      "collapsed_sections": [],
      "authorship_tag": "ABX9TyMwaDh44HFUR4PkDUtU9GLg",
      "include_colab_link": true
    },
    "kernelspec": {
      "name": "python3",
      "display_name": "Python 3"
    },
    "language_info": {
      "name": "python"
    }
  },
  "cells": [
    {
      "cell_type": "markdown",
      "metadata": {
        "id": "view-in-github",
        "colab_type": "text"
      },
      "source": [
        "<a href=\"https://colab.research.google.com/github/RukiyatDiekola/RukiyatDiekola/blob/main/Untitled2.ipynb\" target=\"_parent\"><img src=\"https://colab.research.google.com/assets/colab-badge.svg\" alt=\"Open In Colab\"/></a>"
      ]
    },
    {
      "cell_type": "code",
      "execution_count": null,
      "metadata": {
        "colab": {
          "base_uri": "https://localhost:8080/"
        },
        "id": "VaeSmwbs1B4j",
        "outputId": "49e01871-d583-48fb-99b8-e0c0549ac27c"
      },
      "outputs": [
        {
          "output_type": "stream",
          "name": "stdout",
          "text": [
            "Hello, world\n"
          ]
        }
      ],
      "source": [
        "x= \"Hello, world\"\n",
        "print(x)"
      ]
    },
    {
      "cell_type": "code",
      "source": [
        "y= \"How are you\"\n",
        "print(y)\n",
        "z=x+ \" ,\" +y\n",
        "print(z)"
      ],
      "metadata": {
        "colab": {
          "base_uri": "https://localhost:8080/"
        },
        "id": "ut6sqSnI2eGv",
        "outputId": "5575d8dc-8c48-4eee-a4cd-7a58e03849ff"
      },
      "execution_count": null,
      "outputs": [
        {
          "output_type": "stream",
          "name": "stdout",
          "text": [
            "How are you\n",
            "Hello, world ,How are you\n"
          ]
        }
      ]
    },
    {
      "cell_type": "code",
      "source": [
        "#assigning multiples variables\n",
        "x=y=z=\"oranges\"\n",
        "print(x)\n",
        "print(y)\n",
        "print(z)\n"
      ],
      "metadata": {
        "colab": {
          "base_uri": "https://localhost:8080/"
        },
        "id": "vsSjlheU3DAt",
        "outputId": "4c7ba505-b5f8-4d50-8c80-4ce544416501"
      },
      "execution_count": null,
      "outputs": [
        {
          "output_type": "stream",
          "name": "stdout",
          "text": [
            "oranges\n",
            "oranges\n",
            "oranges\n"
          ]
        }
      ]
    },
    {
      "cell_type": "code",
      "source": [
        "X =\"awesome\"\n",
        "def myfunc():\n",
        "  print(\"Python is\" + X)"
      ],
      "metadata": {
        "id": "EmwUobwg3cBS"
      },
      "execution_count": null,
      "outputs": []
    },
    {
      "cell_type": "code",
      "source": [
        "print(len(X))"
      ],
      "metadata": {
        "colab": {
          "base_uri": "https://localhost:8080/"
        },
        "id": "p5_bS1in42C1",
        "outputId": "d14d0183-892c-45ac-8d1f-33e46a52b816"
      },
      "execution_count": null,
      "outputs": [
        {
          "output_type": "stream",
          "name": "stdout",
          "text": [
            "7\n"
          ]
        }
      ]
    },
    {
      "cell_type": "code",
      "source": [
        "print(X[1])"
      ],
      "metadata": {
        "colab": {
          "base_uri": "https://localhost:8080/"
        },
        "id": "FxGA4icy6EnH",
        "outputId": "3b3b05aa-9adc-4c14-983d-49c4d192fe06"
      },
      "execution_count": null,
      "outputs": [
        {
          "output_type": "stream",
          "name": "stdout",
          "text": [
            "w\n"
          ]
        }
      ]
    },
    {
      "cell_type": "code",
      "source": [
        "print(X[-1])"
      ],
      "metadata": {
        "colab": {
          "base_uri": "https://localhost:8080/"
        },
        "id": "BKUTW7mC6N0V",
        "outputId": "41de5e8f-22ee-47e4-9983-7719ae6cb971"
      },
      "execution_count": null,
      "outputs": [
        {
          "output_type": "stream",
          "name": "stdout",
          "text": [
            "e\n"
          ]
        }
      ]
    },
    {
      "cell_type": "code",
      "source": [
        "print(type(X))"
      ],
      "metadata": {
        "colab": {
          "base_uri": "https://localhost:8080/"
        },
        "id": "R41lgU3z6Zez",
        "outputId": "4303c864-ce17-440f-d722-4bb3e8153cec"
      },
      "execution_count": null,
      "outputs": [
        {
          "output_type": "stream",
          "name": "stdout",
          "text": [
            "<class 'str'>\n"
          ]
        }
      ]
    },
    {
      "cell_type": "code",
      "source": [
        "txt=\"The best things in life are free\"\n",
        "print(\"free\" in txt)"
      ],
      "metadata": {
        "colab": {
          "base_uri": "https://localhost:8080/"
        },
        "id": "jEu8HCe-6jpi",
        "outputId": "24fe7206-5e40-47a4-bba0-a56e2b155681"
      },
      "execution_count": null,
      "outputs": [
        {
          "output_type": "stream",
          "name": "stdout",
          "text": [
            "True\n"
          ]
        }
      ]
    },
    {
      "cell_type": "code",
      "source": [
        "if \"free\" in txt:\n",
        " print(\"yes, free is present\")"
      ],
      "metadata": {
        "colab": {
          "base_uri": "https://localhost:8080/"
        },
        "id": "iBecXP7_61y9",
        "outputId": "6c403e1b-24af-465e-d28e-10ea5c62b551"
      },
      "execution_count": null,
      "outputs": [
        {
          "output_type": "stream",
          "name": "stdout",
          "text": [
            "yes, free is present\n"
          ]
        }
      ]
    },
    {
      "cell_type": "code",
      "source": [
        "if \"things\" in txt:\n",
        "  print(\"yes, things in present\")"
      ],
      "metadata": {
        "colab": {
          "base_uri": "https://localhost:8080/"
        },
        "id": "MWYxvdJb7eFe",
        "outputId": "ea2fb3be-12ce-4d54-dc39-2e4ff93dd899"
      },
      "execution_count": null,
      "outputs": [
        {
          "output_type": "stream",
          "name": "stdout",
          "text": [
            "yes, things in present\n"
          ]
        }
      ]
    },
    {
      "cell_type": "code",
      "source": [
        "if \"expensive\" not in txt:\n",
        " print(\"yes, expensive not present\")"
      ],
      "metadata": {
        "colab": {
          "base_uri": "https://localhost:8080/"
        },
        "id": "pzoPW2mh7vK9",
        "outputId": "bc01282b-423e-4812-af4a-89f3dcc99076"
      },
      "execution_count": null,
      "outputs": [
        {
          "output_type": "stream",
          "name": "stdout",
          "text": [
            "yes, expensive not present\n"
          ]
        }
      ]
    },
    {
      "cell_type": "code",
      "source": [
        "print(\"expensive\" in txt)"
      ],
      "metadata": {
        "colab": {
          "base_uri": "https://localhost:8080/"
        },
        "id": "CW7PUQMd8AYn",
        "outputId": "2db909eb-be2e-4ed5-d665-2a227adf38f1"
      },
      "execution_count": null,
      "outputs": [
        {
          "output_type": "stream",
          "name": "stdout",
          "text": [
            "False\n"
          ]
        }
      ]
    },
    {
      "cell_type": "code",
      "source": [],
      "metadata": {
        "id": "mcNOmFPL8F1h"
      },
      "execution_count": null,
      "outputs": []
    }
  ]
}